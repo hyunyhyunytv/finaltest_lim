{
 "cells": [
  {
   "cell_type": "code",
   "execution_count": 19,
   "id": "893b52c8-6b30-4d8a-9a48-1aca59d3c0f7",
   "metadata": {},
   "outputs": [],
   "source": [
    "import pandas as pd\n",
    "import folium\n",
    "filePath = r'지역별 폭염일수.xlsx'\n",
    "df= pd.read_excel(filePath,engine='openpyxl')\n",
    "\n",
    "df.columns = [\"이름\", \"경도\", \"위도\", \"폭염일수\"]\n",
    "df = df.dropna()  # NaN 값 제거\n",
    "df[\"경도\"] = pd.to_numeric(df[\"경도\"], errors='coerce')\n",
    "df[\"위도\"] = pd.to_numeric(df[\"위도\"], errors='coerce')\n",
    "df[\"폭염일수\"] = pd.to_numeric(df[\"폭염일수\"], errors='coerce')\n",
    "\n",
    "# Folium 지도 생성\n",
    "m = folium.Map(location=[36.5, 127.5], zoom_start=7)\n",
    "\n",
    "# 각 지점에 마커 추가\n",
    "for _, row in df.iterrows():\n",
    "    folium.CircleMarker(\n",
    "        location=[row[\"위도\"], row[\"경도\"]],\n",
    "        radius=row[\"폭염일수\"],  # 폭염일수에 따라 원 크기 조정\n",
    "        popup=f'{row[\"이름\"]}: {row[\"폭염일수\"]}일',\n",
    "        color='red',\n",
    "        fill=True,\n",
    "        fill_color='red'\n",
    "    ).add_to(m)\n",
    "\n",
    "m.save(r'heat_map.html')"
   ]
  },
  {
   "cell_type": "code",
   "execution_count": null,
   "id": "cb3d1ddf-4081-4a97-8c04-48a3b131ab05",
   "metadata": {},
   "outputs": [],
   "source": []
  }
 ],
 "metadata": {
  "kernelspec": {
   "display_name": "Python 3 (ipykernel)",
   "language": "python",
   "name": "python3"
  },
  "language_info": {
   "codemirror_mode": {
    "name": "ipython",
    "version": 3
   },
   "file_extension": ".py",
   "mimetype": "text/x-python",
   "name": "python",
   "nbconvert_exporter": "python",
   "pygments_lexer": "ipython3",
   "version": "3.11.7"
  }
 },
 "nbformat": 4,
 "nbformat_minor": 5
}
